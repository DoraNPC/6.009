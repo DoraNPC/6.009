{
 "cells": [
  {
   "cell_type": "markdown",
   "metadata": {},
   "source": [
    "# Python Notional Machine\n",
    "Our goal is to refresh ourselves on basics (and some subtleties) associated with Python's data and computational model. Along the way, we'll also use or refresh ourselves on the <b>environment model</b> as a way to think about and keep track of the effect of executing Python code. Specifically, we'll demonstrate use of *environment diagrams* to explain the outcomes of different code sequences."
   ]
  },
  {
   "cell_type": "markdown",
   "metadata": {},
   "source": [
    "## Variables and data types"
   ]
  },
  {
   "cell_type": "markdown",
   "metadata": {},
   "source": [
    "### Integers"
   ]
  },
  {
   "cell_type": "code",
   "execution_count": 1,
   "metadata": {},
   "outputs": [
    {
     "name": "stdout",
     "output_type": "stream",
     "text": [
      "a: 307 \n",
      "b: 307\n"
     ]
    }
   ],
   "source": [
    "a = 307\n",
    "b = a\n",
    "print('a:', a, '\\nb:', b)"
   ]
  },
  {
   "cell_type": "code",
   "execution_count": 2,
   "metadata": {},
   "outputs": [
    {
     "name": "stdout",
     "output_type": "stream",
     "text": [
      "a: 1017 \n",
      "b: 307\n"
     ]
    }
   ],
   "source": [
    "a = a + 310\n",
    "a += 400\n",
    "print('a:', a, '\\nb:', b)"
   ]
  },
  {
   "cell_type": "code",
   "execution_count": 36,
   "metadata": {},
   "outputs": [
    {
     "ename": "SyntaxError",
     "evalue": "invalid syntax (<ipython-input-36-6f377cf9ce39>, line 1)",
     "output_type": "error",
     "traceback": [
      "\u001b[1;36m  File \u001b[1;32m\"<ipython-input-36-6f377cf9ce39>\"\u001b[1;36m, line \u001b[1;32m1\u001b[0m\n\u001b[1;33m    global():\u001b[0m\n\u001b[1;37m          ^\u001b[0m\n\u001b[1;31mSyntaxError\u001b[0m\u001b[1;31m:\u001b[0m invalid syntax\n"
     ]
    }
   ],
   "source": [
    "global():\n",
    "    "
   ]
  },
  {
   "cell_type": "markdown",
   "metadata": {},
   "source": [
    "So far so good -- integers, and variables pointing to integers, are straightforward."
   ]
  },
  {
   "cell_type": "markdown",
   "metadata": {},
   "source": [
    "### Lists"
   ]
  },
  {
   "cell_type": "code",
   "execution_count": 37,
   "metadata": {},
   "outputs": [
    {
     "name": "stdout",
     "output_type": "stream",
     "text": [
      "x: ['baz', 302, 303, 304]\n"
     ]
    }
   ],
   "source": [
    "x = ['baz', 302, 303, 304]\n",
    "print('x:', x)"
   ]
  },
  {
   "cell_type": "code",
   "execution_count": 38,
   "metadata": {},
   "outputs": [
    {
     "name": "stdout",
     "output_type": "stream",
     "text": [
      "y: ['baz', 302, 303, 304]\n"
     ]
    }
   ],
   "source": [
    "y = x\n",
    "print('y:', y)"
   ]
  },
  {
   "cell_type": "code",
   "execution_count": 39,
   "metadata": {},
   "outputs": [
    {
     "name": "stdout",
     "output_type": "stream",
     "text": [
      "x: 377 \n",
      "y: ['baz', 302, 303, 304]\n"
     ]
    }
   ],
   "source": [
    "x = 377\n",
    "print('x:', x, '\\ny:', y)"
   ]
  },
  {
   "cell_type": "markdown",
   "metadata": {},
   "source": [
    "\n",
    "Unlike integers, lists are mutable:"
   ]
  },
  {
   "cell_type": "code",
   "execution_count": 40,
   "metadata": {},
   "outputs": [
    {
     "name": "stdout",
     "output_type": "stream",
     "text": [
      "x: [388, 302, 303, 304]\n"
     ]
    }
   ],
   "source": [
    "x = y\n",
    "x[0] = 388\n",
    "print('x:', x)"
   ]
  },
  {
   "cell_type": "code",
   "execution_count": 41,
   "metadata": {},
   "outputs": [
    {
     "name": "stdout",
     "output_type": "stream",
     "text": [
      "y: [388, 302, 303, 304]\n"
     ]
    }
   ],
   "source": [
    "print('y:', y)"
   ]
  },
  {
   "cell_type": "markdown",
   "metadata": {},
   "source": [
    "As seen above, we have to be careful about sharing (also known as \"aliasing\") mutable data!"
   ]
  },
  {
   "cell_type": "code",
   "execution_count": 42,
   "metadata": {},
   "outputs": [
    {
     "name": "stdout",
     "output_type": "stream",
     "text": [
      "[[301, 302, 303], [301, 302, 303], [301, 302, 303]]\n"
     ]
    }
   ],
   "source": [
    "a = [301, 302, 303]\n",
    "b = [a, a, a]\n",
    "print(b)"
   ]
  },
  {
   "cell_type": "code",
   "execution_count": 43,
   "metadata": {},
   "outputs": [
    {
     "name": "stdout",
     "output_type": "stream",
     "text": [
      "[[304, 302, 303], [304, 302, 303], [304, 302, 303]]\n",
      "[304, 302, 303]\n"
     ]
    }
   ],
   "source": [
    "b[0][0] = 304\n",
    "print(b)\n",
    "print(a)"
   ]
  },
  {
   "cell_type": "markdown",
   "metadata": {},
   "source": [
    "### Tuples"
   ]
  },
  {
   "cell_type": "markdown",
   "metadata": {},
   "source": [
    "Tuples are a lot like lists, except that they are immutable."
   ]
  },
  {
   "cell_type": "code",
   "execution_count": 44,
   "metadata": {},
   "outputs": [
    {
     "name": "stdout",
     "output_type": "stream",
     "text": [
      "x: ('baz', [301, 302], 303, 304) \n",
      "y: ('baz', [301, 302], 303, 304)\n"
     ]
    }
   ],
   "source": [
    "x = ('baz', [301, 302], 303, 304)\n",
    "y = x\n",
    "print('x:', x, '\\ny:', y)"
   ]
  },
  {
   "cell_type": "markdown",
   "metadata": {},
   "source": [
    "Unlike a list, we can't change the top most structure of a tuple. What happens if we try the following?"
   ]
  },
  {
   "cell_type": "code",
   "execution_count": 45,
   "metadata": {},
   "outputs": [
    {
     "ename": "TypeError",
     "evalue": "'tuple' object does not support item assignment",
     "output_type": "error",
     "traceback": [
      "\u001b[1;31m---------------------------------------------------------------------------\u001b[0m",
      "\u001b[1;31mTypeError\u001b[0m                                 Traceback (most recent call last)",
      "\u001b[1;32m<ipython-input-45-8a08f6fbfa16>\u001b[0m in \u001b[0;36m<module>\u001b[1;34m\u001b[0m\n\u001b[1;32m----> 1\u001b[1;33m \u001b[0mx\u001b[0m\u001b[1;33m[\u001b[0m\u001b[1;36m0\u001b[0m\u001b[1;33m]\u001b[0m \u001b[1;33m=\u001b[0m \u001b[1;36m388\u001b[0m\u001b[1;33m\u001b[0m\u001b[1;33m\u001b[0m\u001b[0m\n\u001b[0m",
      "\u001b[1;31mTypeError\u001b[0m: 'tuple' object does not support item assignment"
     ]
    }
   ],
   "source": [
    "x[0] = 388"
   ]
  },
  {
   "cell_type": "markdown",
   "metadata": {},
   "source": [
    "What will happen in the following (operating on `x`)?"
   ]
  },
  {
   "cell_type": "code",
   "execution_count": 46,
   "metadata": {},
   "outputs": [
    {
     "name": "stdout",
     "output_type": "stream",
     "text": [
      "x: ('baz', [311, 302], 303, 304) \n",
      "y: ('baz', [311, 302], 303, 304)\n"
     ]
    }
   ],
   "source": [
    "x[1][0] = 311\n",
    "print('x:', x, '\\ny:', y)"
   ]
  },
  {
   "cell_type": "markdown",
   "metadata": {},
   "source": [
    "So we still need to be careful! The tuple didn't change at the top level -- but it might have members that are themselves mutable."
   ]
  },
  {
   "cell_type": "markdown",
   "metadata": {},
   "source": [
    "### Strings"
   ]
  },
  {
   "cell_type": "markdown",
   "metadata": {},
   "source": [
    "Strings are also immutable. We can't change them once created. "
   ]
  },
  {
   "cell_type": "code",
   "execution_count": 47,
   "metadata": {},
   "outputs": [
    {
     "name": "stdout",
     "output_type": "stream",
     "text": [
      "a: ya \n",
      "b: yarn\n"
     ]
    }
   ],
   "source": [
    "a = 'ya'\n",
    "b = a + 'rn'\n",
    "print('a:', a, '\\nb:', b)"
   ]
  },
  {
   "cell_type": "code",
   "execution_count": 48,
   "metadata": {},
   "outputs": [
    {
     "ename": "TypeError",
     "evalue": "'str' object does not support item assignment",
     "output_type": "error",
     "traceback": [
      "\u001b[1;31m---------------------------------------------------------------------------\u001b[0m",
      "\u001b[1;31mTypeError\u001b[0m                                 Traceback (most recent call last)",
      "\u001b[1;32m<ipython-input-48-150fa00334bc>\u001b[0m in \u001b[0;36m<module>\u001b[1;34m\u001b[0m\n\u001b[1;32m----> 1\u001b[1;33m \u001b[0ma\u001b[0m\u001b[1;33m[\u001b[0m\u001b[1;36m0\u001b[0m\u001b[1;33m]\u001b[0m \u001b[1;33m=\u001b[0m \u001b[1;34m'Y'\u001b[0m\u001b[1;33m\u001b[0m\u001b[1;33m\u001b[0m\u001b[0m\n\u001b[0m",
      "\u001b[1;31mTypeError\u001b[0m: 'str' object does not support item assignment"
     ]
    }
   ],
   "source": [
    "a[0] = 'Y'"
   ]
  },
  {
   "cell_type": "code",
   "execution_count": 49,
   "metadata": {},
   "outputs": [
    {
     "name": "stdout",
     "output_type": "stream",
     "text": [
      "c: twine thread \n",
      "d: twine\n"
     ]
    }
   ],
   "source": [
    "c = 'twine'\n",
    "d = c\n",
    "c += ' thread'\n",
    "print('c:', c, '\\nd:', d)"
   ]
  },
  {
   "cell_type": "markdown",
   "metadata": {},
   "source": [
    "That's a little bit tricky. Here the `+=` operator makes a copy of `c` first to use as part of the new string with `' there'` included at the end."
   ]
  },
  {
   "cell_type": "markdown",
   "metadata": {},
   "source": [
    "### Back to lists: append, extend, and the '+' and '+=' operators"
   ]
  },
  {
   "cell_type": "code",
   "execution_count": 50,
   "metadata": {},
   "outputs": [
    {
     "name": "stdout",
     "output_type": "stream",
     "text": [
      "x: [1, 2, 3, [99, 5]] \n",
      "y: [99, 5]\n"
     ]
    }
   ],
   "source": [
    "x = [1, 2, 3]\n",
    "y = [4, 5]\n",
    "x.append(y)\n",
    "y[0] = 99\n",
    "print('x:', x, '\\ny:', y)"
   ]
  },
  {
   "cell_type": "markdown",
   "metadata": {},
   "source": [
    "So again, we have to watch out for aliasing/sharing, whenever we mutate an object."
   ]
  },
  {
   "cell_type": "code",
   "execution_count": 51,
   "metadata": {},
   "outputs": [
    {
     "name": "stdout",
     "output_type": "stream",
     "text": [
      "x: [1, 2, 3, 4, 5] \n",
      "y: [88, 5]\n"
     ]
    }
   ],
   "source": [
    "x = [1, 2, 3]\n",
    "y = [4, 5]\n",
    "x.extend(y)\n",
    "y[0] = 88\n",
    "print('x:', x, '\\ny:', y)"
   ]
  },
  {
   "cell_type": "markdown",
   "metadata": {},
   "source": [
    "<pre>\n",
    "\n",
    "\n",
    "\n",
    "\n",
    "\n",
    "\n",
    "\n",
    "\n",
    "</pre>\n",
    "What happens when using the `+` operator used on lists?"
   ]
  },
  {
   "cell_type": "code",
   "execution_count": 52,
   "metadata": {},
   "outputs": [
    {
     "name": "stdout",
     "output_type": "stream",
     "text": [
      "x: [1, 2, 3, 4, 5]\n"
     ]
    }
   ],
   "source": [
    "x = [1, 2, 3]\n",
    "y = x\n",
    "x = x + [4, 5]\n",
    "print('x:', x)"
   ]
  },
  {
   "cell_type": "markdown",
   "metadata": {},
   "source": [
    "So the `+` operator on a list looks sort of like extend. But has it changed `x` in place, or made a copy of `x` first for use in the longer list?\n",
    "\n",
    "And what happens to `y` in the above?"
   ]
  },
  {
   "cell_type": "code",
   "execution_count": 53,
   "metadata": {},
   "outputs": [
    {
     "name": "stdout",
     "output_type": "stream",
     "text": [
      "y: [1, 2, 3]\n"
     ]
    }
   ],
   "source": [
    "print('y:', y)"
   ]
  },
  {
   "cell_type": "markdown",
   "metadata": {},
   "source": [
    "So that clarifies things -- the `+` operator on a list makes a (shallow) copy of the left argument first, then uses that copy in the new larger list."
   ]
  },
  {
   "cell_type": "markdown",
   "metadata": {},
   "source": [
    "Another case, this time using the `+=` operator with a list. Note: in the case of integers, `a = a + <val>` and `a += <val>` gave exactly the same result. How about in the case of lists?"
   ]
  },
  {
   "cell_type": "code",
   "execution_count": 54,
   "metadata": {},
   "outputs": [
    {
     "name": "stdout",
     "output_type": "stream",
     "text": [
      "x: [77, 2, 3, 4, 5] \n",
      "y: [77, 2, 3, 4, 5]\n"
     ]
    }
   ],
   "source": [
    "x = [1, 2, 3]\n",
    "y = x\n",
    "x += [4, 5]\n",
    "y[0] = 77\n",
    "print('x:', x, '\\ny:', y)"
   ]
  },
  {
   "cell_type": "markdown",
   "metadata": {},
   "source": [
    "So `x += <something>` is NOT the same thing as `x = x + <something>` if `x` is a list!  Here it actually DOES mutate or change `x` in place, if that is allowed (i.e., if `x` is a mutable object).\n",
    "\n",
    "Contrast this with the same thing, but for `x` in the case where `x` was a string. Since strings are immutable, python does not change `x` in place. Rather, the `+=` operator is overloaded to do a top-level copy of the target, make that copy part of the new larger object, and assign that new object to the variable."
   ]
  },
  {
   "cell_type": "markdown",
   "metadata": {},
   "source": [
    "Let's check your understanding. What will happen in the following, that looks just like the code above for lists, but instead using tuples. What will x and y be after executing this?"
   ]
  },
  {
   "cell_type": "code",
   "execution_count": 55,
   "metadata": {},
   "outputs": [
    {
     "name": "stdout",
     "output_type": "stream",
     "text": [
      "x: (301, 302, 303, 304, 305) \n",
      "y: (301, 302, 303)\n"
     ]
    }
   ],
   "source": [
    "x = (301, 302, 303)\n",
    "y = x\n",
    "x += (304, 305)\n",
    "print('x:', x, '\\ny:', y)"
   ]
  },
  {
   "cell_type": "markdown",
   "metadata": {},
   "source": [
    "## Functions and scoping"
   ]
  },
  {
   "cell_type": "code",
   "execution_count": 56,
   "metadata": {},
   "outputs": [
    {
     "name": "stdout",
     "output_type": "stream",
     "text": [
      "x: 500 \n",
      "foo: <function foo at 0x000001C8E8D0BDC0> \n",
      "z: 807\n"
     ]
    }
   ],
   "source": [
    "x = 500\n",
    "def foo(y):\n",
    "    return x + y\n",
    "z = foo(307)\n",
    "print('x:', x, '\\nfoo:', foo, '\\nz:', z)"
   ]
  },
  {
   "cell_type": "code",
   "execution_count": 57,
   "metadata": {},
   "outputs": [
    {
     "name": "stdout",
     "output_type": "stream",
     "text": [
      "x: 500 \n",
      "w: 807\n"
     ]
    }
   ],
   "source": [
    "def bar(x):\n",
    "    x = 1000\n",
    "    return foo(307)\n",
    "w = bar('hi')\n",
    "print('x:', x, '\\nw:', w)"
   ]
  },
  {
   "cell_type": "markdown",
   "metadata": {},
   "source": [
    "Importantly, `foo` \"remembers\" that it was created in the global environment, so looks in the global environment to find a value for `x`. It does **not** look back in its \"call chain\"; rather, it looks back in its parent environment."
   ]
  },
  {
   "cell_type": "markdown",
   "metadata": {},
   "source": [
    "### Brain Teaser"
   ]
  },
  {
   "cell_type": "markdown",
   "metadata": {},
   "source": [
    "What happens when this program is run?\n",
    "    0. It prints 12, then 13, then ..., then 16\n",
    "    1. It prints 13, then 14, then ..., then 17\n",
    "    2. It prints 16, then 15, then ..., then 12\n",
    "    3. It prints 17, then 16, then ..., then 13\n",
    "    4. A Python error occurs\n",
    "    5. Something else"
   ]
  },
  {
   "cell_type": "code",
   "execution_count": 58,
   "metadata": {},
   "outputs": [
    {
     "name": "stdout",
     "output_type": "stream",
     "text": [
      "16\n",
      "16\n",
      "16\n",
      "16\n",
      "16\n"
     ]
    }
   ],
   "source": [
    "functions = []\n",
    "for i in range(5):\n",
    "    def func(x):\n",
    "        return x + i\n",
    "    functions.append(func)\n",
    "\n",
    "for f in functions:\n",
    "    print(f(12))"
   ]
  },
  {
   "cell_type": "markdown",
   "metadata": {},
   "source": [
    "The environment model helps us figure out what is going on.  Which picture applies here?"
   ]
  },
  {
   "cell_type": "markdown",
   "metadata": {},
   "source": [
    "### Optional arguments and default values"
   ]
  },
  {
   "cell_type": "code",
   "execution_count": 59,
   "metadata": {},
   "outputs": [
    {
     "name": "stdout",
     "output_type": "stream",
     "text": [
      "a: [7] \n",
      "b: [1, 2, 3, 8]\n"
     ]
    }
   ],
   "source": [
    "def foo(x, y = []):\n",
    "    y = y + [x]\n",
    "    return y\n",
    "\n",
    "a = foo(7)\n",
    "b = foo(8, [1, 2, 3])\n",
    "print('a:', a, '\\nb:', b)"
   ]
  },
  {
   "cell_type": "code",
   "execution_count": 60,
   "metadata": {
    "scrolled": true
   },
   "outputs": [
    {
     "name": "stdout",
     "output_type": "stream",
     "text": [
      "a: [7] \n",
      "b: [1, 2, 3, 8] \n",
      "c: [7]\n"
     ]
    }
   ],
   "source": [
    "c = foo(7)\n",
    "print('a:', a, '\\nb:', b, '\\nc:', c)"
   ]
  },
  {
   "cell_type": "markdown",
   "metadata": {},
   "source": [
    "Let's try something that looks close to the same thing... but with an important difference!"
   ]
  },
  {
   "cell_type": "code",
   "execution_count": 61,
   "metadata": {},
   "outputs": [
    {
     "name": "stdout",
     "output_type": "stream",
     "text": [
      "a: [7] \n",
      "b: [1, 2, 3, 8]\n"
     ]
    }
   ],
   "source": [
    "def foo(x, y = []):\n",
    "    y.append(x)   # different here\n",
    "    return y\n",
    "\n",
    "a = foo(7)\n",
    "b = foo(8, [1, 2, 3])\n",
    "print('a:', a, '\\nb:', b)"
   ]
  },
  {
   "cell_type": "markdown",
   "metadata": {},
   "source": [
    "Okay, so far it looks the same as with the earlier `foo`."
   ]
  },
  {
   "cell_type": "code",
   "execution_count": 62,
   "metadata": {},
   "outputs": [
    {
     "name": "stdout",
     "output_type": "stream",
     "text": [
      "a: [7, 7] \n",
      "b: [1, 2, 3, 8] \n",
      "c: [7, 7]\n"
     ]
    }
   ],
   "source": [
    "c = foo(7)\n",
    "print('a:', a, '\\nb:', b, '\\nc:', c)"
   ]
  },
  {
   "cell_type": "markdown",
   "metadata": {},
   "source": [
    "So quite different... all kinds of aliasing going on. Perhaps surprisingly, the default value to an optional argument is only evaluated once, at function *definition* time. The moral here is to be **very** careful (and indeed it may be best to simply avoid) having optional/default arguments that are mutable structures like lists... it's hard to remember or debug such aliasing!"
   ]
  },
  {
   "cell_type": "markdown",
   "metadata": {},
   "source": [
    "## Closures"
   ]
  },
  {
   "cell_type": "code",
   "execution_count": 63,
   "metadata": {},
   "outputs": [],
   "source": [
    "def add_n(n):\n",
    "    def inner(x):\n",
    "        return x + n\n",
    "    return inner"
   ]
  },
  {
   "cell_type": "code",
   "execution_count": 64,
   "metadata": {},
   "outputs": [
    {
     "name": "stdout",
     "output_type": "stream",
     "text": [
      "5\n",
      "8\n",
      "17\n"
     ]
    }
   ],
   "source": [
    "add1 = add_n(1)\n",
    "add2 = add_n(2)\n",
    "\n",
    "print(add2(3))\n",
    "print(add1(7))\n",
    "print(add_n(8)(9))  "
   ]
  },
  {
   "cell_type": "markdown",
   "metadata": {},
   "source": [
    "## Reference Counting"
   ]
  },
  {
   "cell_type": "markdown",
   "metadata": {},
   "source": [
    "This is an advanced feature you don't need to know about, but you might be curious about. Python knows to throw away an object when its \"reference counter\" reaches zero.  You can inspect the current value of an object's reference counter with `sys.getrefcount`."
   ]
  },
  {
   "cell_type": "code",
   "execution_count": 65,
   "metadata": {},
   "outputs": [
    {
     "name": "stdout",
     "output_type": "stream",
     "text": [
      "2\n",
      "3\n",
      "6\n",
      "5\n",
      "3\n"
     ]
    }
   ],
   "source": [
    "import sys\n",
    "L1 = [301, 302, 303]\n",
    "print(sys.getrefcount(L1))\n",
    "L2 = L1\n",
    "print(sys.getrefcount(L1))\n",
    "L3 = [L1, L1, L1]\n",
    "print(sys.getrefcount(L1))\n",
    "L3.pop()\n",
    "print(sys.getrefcount(L1))\n",
    "L3 = 307\n",
    "print(sys.getrefcount(L1))"
   ]
  },
  {
   "cell_type": "markdown",
   "metadata": {},
   "source": [
    "## Readings -- if you want/need more refreshers"
   ]
  },
  {
   "cell_type": "markdown",
   "metadata": {},
   "source": [
    "Check out readings and exercises from <a href=https://hz.mit.edu/catsoop/6.145><b>6.145</b></a>:\n",
    "<ul>\n",
    "  <li> <a href=https://hz.mit.edu/catsoop/6.145/assignment0.0/readings#_variables_and_assignment>Assignment and aliasing</a>\n",
    "  <li> What is an <a href=https://hz.mit.edu/catsoop/6.145/assignment0.0/readings#_environment_diagrams>environment</a>?  What is a frame? How should we draw environment diagrams?\n",
    "  <li> What is a <a href=https://hz.mit.edu/catsoop/6.145/assignment1.0/readings>function</a>? \n",
    "      What happens when one is defined?  What happens when one is called? \n",
    "  <li> What happens when a <a href=https://hz.mit.edu/catsoop/6.145/assignment1.1/readings#_function_ception_and_returning_functions>function is defined inside another function</a> (also known as a closure)?\n",
    "  <li> What is a <a href=https://hz.mit.edu/catsoop/6.145/assignment2.0/readings>class</a>? What is an instance? What is self?  What is __init__?\n",
    "  <li> How does <a href=https://hz.mit.edu/catsoop/6.145/assignment2.1/readings>inheritance</a> in classes work?\n",
    "  </ul>\n",
    "  \n",
    "  Another resource is the <a href=https://greenteapress.com/wp/think-python-2e/>Think Python</a> textbook."
   ]
  }
 ],
 "metadata": {
  "celltoolbar": "Raw Cell Format",
  "kernelspec": {
   "display_name": "Python 3",
   "language": "python",
   "name": "python3"
  },
  "language_info": {
   "codemirror_mode": {
    "name": "ipython",
    "version": 3
   },
   "file_extension": ".py",
   "mimetype": "text/x-python",
   "name": "python",
   "nbconvert_exporter": "python",
   "pygments_lexer": "ipython3",
   "version": "3.9.0"
  }
 },
 "nbformat": 4,
 "nbformat_minor": 2
}
