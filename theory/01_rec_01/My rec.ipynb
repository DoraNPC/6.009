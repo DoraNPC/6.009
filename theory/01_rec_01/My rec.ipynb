{
 "cells": [
  {
   "cell_type": "markdown",
   "metadata": {},
   "source": [
    "Even seasoned software programmers very rarely get their code right on the first try.  That's why it's so important to learn techniques of **testing** and **debugging**, which help us act as detectives, evaluating hypotheses about what in our code works properly and what doesn't.  Then we can act on those hypotheses to implement fixes.  This recitation is all about that detective process, focusing on the fundamentals.  Rather than adopting any fancy Python libraries, we'll see how to do it all with built-in features.\n",
    "\n",
    "# `backwards` Revisited\n",
    "\n",
    "Let's take a look at one of the first problems from Lab 0: reversing a sound.  Recall that a sound is a dictionary with keys `'rate'`, for number of samples per second; `'left'`, for a list of intensities in the left channel; and `'right'`, for a similar list for the right channel.\n",
    "\n",
    "Here is an implementation with a subtle flaw."
   ]
  },
  {
   "cell_type": "code",
   "execution_count": 65,
   "metadata": {},
   "outputs": [],
   "source": [
    "def backwards(sound):\n",
    "    print('input before: ', sound)\n",
    "    new_sound = sound.copy()                      # Line 1\n",
    "    new_sound['left'] = new_sound['left'][::-1]   # Line 2\n",
    "    new_sound['right'] = new_sound['right'][::-1] # Line 3\n",
    "    print('input after: ', sound)\n",
    "    print('output: ', new_sound)\n",
    "    print(' ')\n",
    "    return new_sound             # Line 4"
   ]
  },
  {
   "cell_type": "markdown",
   "metadata": {},
   "source": [
    "Let's do some sanity checking of our implementation.  The test cases we provide for each lab are often so large and complex that it is hard to understand what to do when one fails.  Therefore, it pays to write your own small tests!"
   ]
  },
  {
   "cell_type": "code",
   "execution_count": 66,
   "metadata": {},
   "outputs": [],
   "source": [
    "def test_backwards():\n",
    "    input1 = {'rate': 10,\n",
    "              'left': [1, 2],\n",
    "              'right': [3, 4]}\n",
    "    output1 = {'rate': 10,\n",
    "               'left': [2, 1],\n",
    "               'right': [4, 3]}\n",
    "    assert backwards(input1) == output1\n",
    "    assert backwards(backwards(input1)) == input1\n",
    "    \n",
    "    input2 = {'rate': 10,\n",
    "              'left': [1, 2, 8],\n",
    "              'right': [3, 4, 9]}\n",
    "    output2 = {'rate': 10,\n",
    "               'left': [8, 2, 1],\n",
    "               'right': [9, 4, 3]}\n",
    "    assert backwards(input2) == output2"
   ]
  },
  {
   "cell_type": "code",
   "execution_count": 67,
   "metadata": {},
   "outputs": [
    {
     "name": "stdout",
     "output_type": "stream",
     "text": [
      "input before:  {'rate': 10, 'left': [1, 2], 'right': [3, 4]}\n",
      "input after:  {'rate': 10, 'left': [1, 2], 'right': [3, 4]}\n",
      "output:  {'rate': 10, 'left': [2, 1], 'right': [4, 3]}\n",
      " \n",
      "input before:  {'rate': 10, 'left': [1, 2], 'right': [3, 4]}\n",
      "input after:  {'rate': 10, 'left': [1, 2], 'right': [3, 4]}\n",
      "output:  {'rate': 10, 'left': [2, 1], 'right': [4, 3]}\n",
      " \n",
      "input before:  {'rate': 10, 'left': [2, 1], 'right': [4, 3]}\n",
      "input after:  {'rate': 10, 'left': [2, 1], 'right': [4, 3]}\n",
      "output:  {'rate': 10, 'left': [1, 2], 'right': [3, 4]}\n",
      " \n",
      "input before:  {'rate': 10, 'left': [1, 2, 8], 'right': [3, 4, 9]}\n",
      "input after:  {'rate': 10, 'left': [1, 2, 8], 'right': [3, 4, 9]}\n",
      "output:  {'rate': 10, 'left': [8, 2, 1], 'right': [9, 4, 3]}\n",
      " \n"
     ]
    }
   ],
   "source": [
    "test_backwards()"
   ]
  },
  {
   "cell_type": "code",
   "execution_count": 68,
   "metadata": {},
   "outputs": [],
   "source": [
    "def test_backwards():\n",
    "    input1 = {'rate': 10,\n",
    "              'left': [1, 2],\n",
    "              'right': [3, 4]}\n",
    "    output1 = {'rate': 10,\n",
    "               'left': [2, 1],\n",
    "               'right': [4, 3]}\n",
    "    assert backwards(input1) == output1\n",
    "    assert backwards(backwards(input1)) == input1\n",
    "    assert backwards(output1) == input1\n",
    "    \n",
    "    input2 = {'rate': 10,\n",
    "              'left': [1, 2, 8],\n",
    "              'right': [3, 4, 9]}\n",
    "    output2 = {'rate': 10,\n",
    "               'left': [8, 2, 1],\n",
    "               'right': [9, 4, 3]}\n",
    "    assert backwards(input2) == output2"
   ]
  },
  {
   "cell_type": "code",
   "execution_count": 69,
   "metadata": {},
   "outputs": [
    {
     "name": "stdout",
     "output_type": "stream",
     "text": [
      "input before:  {'rate': 10, 'left': [1, 2], 'right': [3, 4]}\n",
      "input after:  {'rate': 10, 'left': [1, 2], 'right': [3, 4]}\n",
      "output:  {'rate': 10, 'left': [2, 1], 'right': [4, 3]}\n",
      " \n",
      "input before:  {'rate': 10, 'left': [1, 2], 'right': [3, 4]}\n",
      "input after:  {'rate': 10, 'left': [1, 2], 'right': [3, 4]}\n",
      "output:  {'rate': 10, 'left': [2, 1], 'right': [4, 3]}\n",
      " \n",
      "input before:  {'rate': 10, 'left': [2, 1], 'right': [4, 3]}\n",
      "input after:  {'rate': 10, 'left': [2, 1], 'right': [4, 3]}\n",
      "output:  {'rate': 10, 'left': [1, 2], 'right': [3, 4]}\n",
      " \n",
      "input before:  {'rate': 10, 'left': [2, 1], 'right': [4, 3]}\n",
      "input after:  {'rate': 10, 'left': [2, 1], 'right': [4, 3]}\n",
      "output:  {'rate': 10, 'left': [1, 2], 'right': [3, 4]}\n",
      " \n",
      "input before:  {'rate': 10, 'left': [1, 2, 8], 'right': [3, 4, 9]}\n",
      "input after:  {'rate': 10, 'left': [1, 2, 8], 'right': [3, 4, 9]}\n",
      "output:  {'rate': 10, 'left': [8, 2, 1], 'right': [9, 4, 3]}\n",
      " \n"
     ]
    }
   ],
   "source": [
    "test_backwards()"
   ]
  },
  {
   "cell_type": "markdown",
   "metadata": {},
   "source": [
    "Things go wrong when we add the right new test case."
   ]
  },
  {
   "cell_type": "markdown",
   "metadata": {},
   "source": [
    "# Some Examples with Comprehensions\n",
    "\n",
    "Here's a somewhat awkward way to perform a simple computation."
   ]
  },
  {
   "cell_type": "code",
   "execution_count": 86,
   "metadata": {},
   "outputs": [],
   "source": [
    "def subtract_lists(l1, l2):\n",
    "    \"\"\"Given l1 and l2 same-length lists of numbers,\n",
    "    return a new list where each position is the difference\n",
    "    between that position in l1 and in l2.\"\"\"\n",
    "    \n",
    "    assert len(l1) == len(l2), 'Different length'\n",
    "    \n",
    "    output = []\n",
    "    for i in range(len(l1)):\n",
    "        output.append(l1[i] - l2[i])\n",
    "    return output"
   ]
  },
  {
   "cell_type": "code",
   "execution_count": 87,
   "metadata": {},
   "outputs": [],
   "source": [
    "def test_subtract_lists():\n",
    "    assert subtract_lists([1, 2], [3, 5]) == [-2, -3]\n",
    "    assert subtract_lists([325, 64, 66], [1, 2, 3]) == [324, 62, 63]"
   ]
  },
  {
   "cell_type": "code",
   "execution_count": 88,
   "metadata": {},
   "outputs": [],
   "source": [
    "test_subtract_lists()"
   ]
  },
  {
   "cell_type": "code",
   "execution_count": 89,
   "metadata": {},
   "outputs": [
    {
     "ename": "AssertionError",
     "evalue": "Different length",
     "output_type": "error",
     "traceback": [
      "\u001b[1;31m---------------------------------------------------------------------------\u001b[0m",
      "\u001b[1;31mAssertionError\u001b[0m                            Traceback (most recent call last)",
      "\u001b[1;32m<ipython-input-89-88cbf61d047c>\u001b[0m in \u001b[0;36m<module>\u001b[1;34m\u001b[0m\n\u001b[1;32m----> 1\u001b[1;33m \u001b[0msubtract_lists\u001b[0m\u001b[1;33m(\u001b[0m\u001b[1;33m[\u001b[0m\u001b[1;36m3\u001b[0m\u001b[1;33m,\u001b[0m\u001b[1;36m4\u001b[0m\u001b[1;33m]\u001b[0m\u001b[1;33m,\u001b[0m \u001b[1;33m[\u001b[0m\u001b[1;36m7\u001b[0m\u001b[1;33m]\u001b[0m\u001b[1;33m)\u001b[0m\u001b[1;33m\u001b[0m\u001b[1;33m\u001b[0m\u001b[0m\n\u001b[0m",
      "\u001b[1;32m<ipython-input-86-53986443470d>\u001b[0m in \u001b[0;36msubtract_lists\u001b[1;34m(l1, l2)\u001b[0m\n\u001b[0;32m      4\u001b[0m     between that position in l1 and in l2.\"\"\"\n\u001b[0;32m      5\u001b[0m \u001b[1;33m\u001b[0m\u001b[0m\n\u001b[1;32m----> 6\u001b[1;33m     \u001b[1;32massert\u001b[0m \u001b[0mlen\u001b[0m\u001b[1;33m(\u001b[0m\u001b[0ml1\u001b[0m\u001b[1;33m)\u001b[0m \u001b[1;33m==\u001b[0m \u001b[0mlen\u001b[0m\u001b[1;33m(\u001b[0m\u001b[0ml2\u001b[0m\u001b[1;33m)\u001b[0m\u001b[1;33m,\u001b[0m \u001b[1;34m'Different length'\u001b[0m\u001b[1;33m\u001b[0m\u001b[1;33m\u001b[0m\u001b[0m\n\u001b[0m\u001b[0;32m      7\u001b[0m \u001b[1;33m\u001b[0m\u001b[0m\n\u001b[0;32m      8\u001b[0m     \u001b[0moutput\u001b[0m \u001b[1;33m=\u001b[0m \u001b[1;33m[\u001b[0m\u001b[1;33m]\u001b[0m\u001b[1;33m\u001b[0m\u001b[1;33m\u001b[0m\u001b[0m\n",
      "\u001b[1;31mAssertionError\u001b[0m: Different length"
     ]
    }
   ],
   "source": [
    "subtract_lists([3,4], [7])"
   ]
  },
  {
   "cell_type": "markdown",
   "metadata": {},
   "source": [
    "We can rewrite this function more succinctly using comprehensions and the `zip` function (a handy pair of Python features indeed).  Here those ingredients are used directly for one of the functions you wrote for Lab 0."
   ]
  },
  {
   "cell_type": "code",
   "execution_count": 112,
   "metadata": {},
   "outputs": [],
   "source": [
    "def remove_vocals(sound):\n",
    "    print('input before')\n",
    "    \n",
    "    new_sound = {\n",
    "        'rate': sound['rate'],                                                          # Line 1\n",
    "        'left': sound['left'][:],                                                       # Line 2\n",
    "        'right': sound['right'][:],                                                     # Line 3\n",
    "    }\n",
    "    \n",
    "    a = [l - r for l, r in zip(new_sound['left'], new_sound['right'])]  # Line 4\n",
    "    \n",
    "    new_sound['left'] = a\n",
    "    new_sound['right'] = a.copy()\n",
    "    \n",
    "    print('input after')\n",
    "    print('output', new_sound)\n",
    "    print()\n",
    "    \n",
    "    return new_sound                                                                    # Line 6"
   ]
  },
  {
   "cell_type": "markdown",
   "metadata": {},
   "source": [
    "A simple test case reveals a problem."
   ]
  },
  {
   "cell_type": "code",
   "execution_count": 113,
   "metadata": {},
   "outputs": [],
   "source": [
    "def test_remove_vocals():\n",
    "    in1 = {'rate': 10,\n",
    "           'left': [1, 2, 3],\n",
    "           'right': [3, 4, 3]}\n",
    "    out1 = {'rate': 10,\n",
    "            'left': [-2, -2, 0],\n",
    "            'right': [-2, -2, 0]}\n",
    "    assert remove_vocals(in1) == out1"
   ]
  },
  {
   "cell_type": "code",
   "execution_count": 114,
   "metadata": {},
   "outputs": [
    {
     "name": "stdout",
     "output_type": "stream",
     "text": [
      "input before\n",
      "input after\n",
      "output {'rate': 10, 'left': [-2, -2, 0], 'right': [-2, -2, 0]}\n",
      "\n"
     ]
    }
   ],
   "source": [
    "test_remove_vocals()"
   ]
  },
  {
   "cell_type": "markdown",
   "metadata": {},
   "source": [
    "Detective work ensues, at this point in class."
   ]
  },
  {
   "cell_type": "markdown",
   "metadata": {},
   "source": [
    "## Matrices\n",
    "\n",
    "Remember the handy multiplication operator for lists?"
   ]
  },
  {
   "cell_type": "code",
   "execution_count": 115,
   "metadata": {},
   "outputs": [
    {
     "data": {
      "text/plain": [
       "[1, 2, 3, 1, 2, 3, 1, 2, 3]"
      ]
     },
     "execution_count": 115,
     "metadata": {},
     "output_type": "execute_result"
    }
   ],
   "source": [
    "[1, 2, 3] * 3"
   ]
  },
  {
   "cell_type": "markdown",
   "metadata": {},
   "source": [
    "It can work well for initializing lists, as demonstrated here for nested lists."
   ]
  },
  {
   "cell_type": "code",
   "execution_count": 149,
   "metadata": {},
   "outputs": [],
   "source": [
    "def x_matrix(n):\n",
    "    \"\"\"Return a nested list representing an n X n matrix,\n",
    "    where the locations on diagonals contain 'X'\n",
    "    and other locations contain spaces ' '.\"\"\"\n",
    "    matrix = [[' '] * n for _ in range(n)]   # Line 1\n",
    "    for i in range(n ):         # Line 2\n",
    "        matrix[i][i] = 'X'     # Line 3\n",
    "        matrix[i][n-1-i] = 'X' # Line 4\n",
    "    \n",
    "    return matrix              # Line 5"
   ]
  },
  {
   "cell_type": "code",
   "execution_count": 150,
   "metadata": {},
   "outputs": [],
   "source": [
    "def test_x_matrix():\n",
    "    assert x_matrix(3) == [['X', ' ', 'X'],\n",
    "                           [' ', 'X', ' '],\n",
    "                           ['X', ' ', 'X']]\n",
    "    assert x_matrix(5) == [['X', ' ', ' ', ' ', 'X'],\n",
    "                           [' ', 'X', ' ', 'X', ' '],\n",
    "                           [' ', ' ', 'X', ' ', ' '],\n",
    "                           [' ', 'X', ' ', 'X', ' '],\n",
    "                           ['X', ' ', ' ', ' ', 'X']]"
   ]
  },
  {
   "cell_type": "code",
   "execution_count": 151,
   "metadata": {},
   "outputs": [],
   "source": [
    "test_x_matrix()"
   ]
  },
  {
   "cell_type": "markdown",
   "metadata": {},
   "source": [
    "# An Echo of `echo`\n",
    "\n",
    "The `echo` function was probably the trickiest part of Lab 0.  Let's look at a simpler version that nonetheless illustrates the main challenges.  Be forewarned, this version has quite a few bugs, which we will work our way through fixing."
   ]
  },
  {
   "cell_type": "code",
   "execution_count": 230,
   "metadata": {},
   "outputs": [],
   "source": [
    "def repeating_sound(sound, num_repeats, scale):\n",
    "    \"\"\"Create a new sound consisting of the original\n",
    "    plus num_repeats copies of it in order,\n",
    "    where the first copy has all positions multiplied by scale,\n",
    "    the second copy has all positions multiplied by scale*2,\n",
    "    the third by scale*3, etc.\"\"\"\n",
    "    def repeating_channel(ch, scale):\n",
    "        \"\"\"Do the above for just one of the two channels (left and right),\n",
    "        passed in directly as a list.\"\"\" \n",
    "        \n",
    "        ch_next = ch[:]\n",
    "        for i in range(num_repeats):\n",
    "            ch = ch + [n * scale for n in ch_next]\n",
    "            scale += scale\n",
    "        return ch\n",
    "    \n",
    "    return {'rate': sound['rate'],\n",
    "            'left': repeating_channel(sound['left'], scale),\n",
    "            'right': repeating_channel(sound['right'], scale)}\n",
    "\n",
    "# Menu of issues we'll watch out for, polling the class about which seem to be present as we fix issues.\n",
    "# Aliasing\n",
    "# Missing return\n",
    "# Off-by-one error\n",
    "# Scoping issue"
   ]
  },
  {
   "cell_type": "code",
   "execution_count": 256,
   "metadata": {},
   "outputs": [],
   "source": [
    "def repeating_sound_better(sound, num_repeats, scale):\n",
    "    \"\"\"Create a new sound consisting of the original\n",
    "    plus num_repeats copies of it in order,\n",
    "    where the first copy has all positions multiplied by scale,\n",
    "    the second copy has all positions multiplied by scale*2,\n",
    "    the third by scale*3, etc.\"\"\"\n",
    "    def repeating_channel(ch, scale):\n",
    "        \"\"\"Do the above for just one of the two channels (left and right),\n",
    "        passed in directly as a list.\"\"\" \n",
    "        \n",
    "        return ch + [sample * scale * n for n in range(1,num_repeats + 1) for sample in ch]\n",
    "    \n",
    "    return {'rate': sound['rate'],\n",
    "            'left': repeating_channel(sound['left'], scale),\n",
    "            'right': repeating_channel(sound['right'], scale)}\n",
    "\n",
    "# Menu of issues we'll watch out for, polling the class about which seem to be present as we fix issues.\n",
    "# Aliasing\n",
    "# Missing return\n",
    "# Off-by-one error\n",
    "# Scoping issue"
   ]
  },
  {
   "cell_type": "markdown",
   "metadata": {},
   "source": [
    "Let's try the simplest kind of test: adding *zero* repeated copies."
   ]
  },
  {
   "cell_type": "code",
   "execution_count": 257,
   "metadata": {},
   "outputs": [],
   "source": [
    "def test_repeating_sound():\n",
    "    def run_test(input, num_repeats, scale, expected):\n",
    "        output = repeating_sound(input, num_repeats, scale)\n",
    "        assert output == expected\n",
    "    \n",
    "    in1 = {'rate': 10,\n",
    "           'left': [1, 2, 3],\n",
    "           'right': [3, 4, 3]}\n",
    "    \n",
    "    ot1 = {'rate': 10,\n",
    "          'left': [1, 2, 3, 2, 4, 6],\n",
    "          'right':[3, 4, 3, 6, 8, 6]}\n",
    "    \n",
    "    ot2 = {'rate': 10,\n",
    "          'left': [1, 2, 3, 2, 4, 6, 4, 8, 12],\n",
    "          'right':[3, 4, 3, 6, 8, 6, 12, 16, 12]}\n",
    "    \n",
    "    run_test(in1, 0, 2, in1)\n",
    "    run_test(in1, 1, 2, ot1)\n",
    "    run_test(in1, 2, 2, ot2)"
   ]
  },
  {
   "cell_type": "code",
   "execution_count": 258,
   "metadata": {},
   "outputs": [],
   "source": [
    "def test_repeating_sound_better():\n",
    "    def run_test(input, num_repeats, scale, expected):\n",
    "        output = repeating_sound_better(input, num_repeats, scale)\n",
    "        assert output == expected\n",
    "    \n",
    "    in1 = {'rate': 10,\n",
    "           'left': [1, 2, 3],\n",
    "           'right': [3, 4, 3]}\n",
    "    \n",
    "    ot1 = {'rate': 10,\n",
    "          'left': [1, 2, 3, 2, 4, 6],\n",
    "          'right':[3, 4, 3, 6, 8, 6]}\n",
    "    \n",
    "    ot2 = {'rate': 10,\n",
    "          'left': [1, 2, 3, 2, 4, 6, 4, 8, 12],\n",
    "          'right':[3, 4, 3, 6, 8, 6, 12, 16, 12]}\n",
    "    \n",
    "    run_test(in1, 0, 2, in1)\n",
    "    run_test(in1, 1, 2, ot1)\n",
    "    run_test(in1, 2, 2, ot2)"
   ]
  },
  {
   "cell_type": "code",
   "execution_count": 261,
   "metadata": {},
   "outputs": [],
   "source": [
    "test_repeating_sound_better()"
   ]
  },
  {
   "cell_type": "code",
   "execution_count": 260,
   "metadata": {},
   "outputs": [],
   "source": [
    "test_repeating_sound()"
   ]
  },
  {
   "cell_type": "markdown",
   "metadata": {},
   "source": [
    "Huh, even that simple test doesn't work!  Our debugging adventure begins here.\n",
    "\n",
    "# Bonus Example (if we have extra time)\n",
    "\n",
    "Here's a multi-bug example of an attempt at the full `echo` function from Lab 0."
   ]
  },
  {
   "cell_type": "code",
   "execution_count": null,
   "metadata": {},
   "outputs": [],
   "source": [
    "def echo(samples, sample_delay, num_echos, scale):\n",
    "    result_samples = [0] * (len(samples) + sample_delay*num_echos)\n",
    "\n",
    "    # the various delays after which echoes start\n",
    "    offsets = [sample_delay*i for i in range(num_echos+1)]\n",
    "    \n",
    "    # keep track of exponent for scale\n",
    "    count = 0\n",
    "\n",
    "    for i in offsets:\n",
    "        # Scale appropriately\n",
    "        scaled_samples = []\n",
    "        for i in samples:\n",
    "            scaled_samples.append(i * scale**count)\n",
    "        \n",
    "        # Insert delay\n",
    "        scaled_and_offset_samples = [0]*i + scaled_samples\n",
    "\n",
    "        # Mix\n",
    "        for i in scaled_and_offset_samples:\n",
    "            result_samples += i\n",
    "        \n",
    "        count += 1\n",
    "\n",
    "    return result_samples"
   ]
  },
  {
   "cell_type": "code",
   "execution_count": null,
   "metadata": {},
   "outputs": [],
   "source": [
    "def test_echo():\n",
    "    assert echo([1, 2, 3], 0, 0, 0) == [1, 2, 3]"
   ]
  },
  {
   "cell_type": "code",
   "execution_count": null,
   "metadata": {},
   "outputs": [],
   "source": [
    "test_echo()"
   ]
  }
 ],
 "metadata": {
  "kernelspec": {
   "display_name": "Python 3",
   "language": "python",
   "name": "python3"
  },
  "language_info": {
   "codemirror_mode": {
    "name": "ipython",
    "version": 3
   },
   "file_extension": ".py",
   "mimetype": "text/x-python",
   "name": "python",
   "nbconvert_exporter": "python",
   "pygments_lexer": "ipython3",
   "version": "3.9.0"
  }
 },
 "nbformat": 4,
 "nbformat_minor": 2
}
